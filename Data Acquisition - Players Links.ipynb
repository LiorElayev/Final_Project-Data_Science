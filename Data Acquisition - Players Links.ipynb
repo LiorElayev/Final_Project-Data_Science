{
 "cells": [
  {
   "cell_type": "code",
   "execution_count": null,
   "metadata": {},
   "outputs": [],
   "source": [
    "# imports and setup\n",
    "from bs4 import BeautifulSoup  \n",
    "import pandas as pd\n",
    "import requests"
   ]
  },
  {
   "cell_type": "code",
   "execution_count": null,
   "metadata": {},
   "outputs": [],
   "source": [
    "basicURL=\"https://www.transfermarkt.com\"\n",
    "records = \"/spieler-statistik/marktwertspruenge/marktwertetop/plus/0/galerie/0?datum=2017-01-01&ausrichtung=alle&spielerposition_id=&altersklasse=alle&land_id=0&yt0=Show\"\n",
    "page = \"&page=\"\n",
    "player_name=list()\n",
    "player_link=list()"
   ]
  },
  {
   "cell_type": "code",
   "execution_count": null,
   "metadata": {},
   "outputs": [],
   "source": [
    "##A loop that runs on all pages on the website and saves lists of the player's name and link to thier info page##\n",
    "for x in range(1, 330): \n",
    "    html = requests.get(basicURL+records+page+str(x),headers={'User-Agent': 'Mozilla/5.0 (Macintosh; Intel Mac OS X 10_13_4) AppleWebKit/537.36 (KHTML, like Gecko) Chrome/35.0.1916.47 Safari/537.36'})\n",
    "    soup = BeautifulSoup(html.content, \"html.parser\")\n",
    "    response=soup(\"div\" , attrs={\"class\": \"responsive-table\"})[0]\n",
    "    player_list =  response(\"table\" , attrs={\"class\": \"items\"})[0]\n",
    "    for player in player_list(\"a\" , attrs={\"class\": \"spielprofil_tooltip\"}):\n",
    "        player_name.append(player.get_text())\n",
    "        player_link.append(basicURL+player.get('href'))"
   ]
  },
  {
   "cell_type": "code",
   "execution_count": null,
   "metadata": {},
   "outputs": [],
   "source": [
    "##Saving in a dataframe the name of each player and the link to his information page##\n",
    "df_player_list = pd.DataFrame({\"player name\":player_name, \"player link\":player_link})"
   ]
  },
  {
   "cell_type": "code",
   "execution_count": null,
   "metadata": {},
   "outputs": [],
   "source": [
    "##Export the dataframe to CSV file###\n",
    "df_player_list.to_csv(\"player_list.csv\")"
   ]
  }
 ],
 "metadata": {
  "kernelspec": {
   "display_name": "Python 3",
   "language": "python",
   "name": "python3"
  },
  "language_info": {
   "codemirror_mode": {
    "name": "ipython",
    "version": 3
   },
   "file_extension": ".py",
   "mimetype": "text/x-python",
   "name": "python",
   "nbconvert_exporter": "python",
   "pygments_lexer": "ipython3",
   "version": "3.8.5"
  }
 },
 "nbformat": 4,
 "nbformat_minor": 4
}
