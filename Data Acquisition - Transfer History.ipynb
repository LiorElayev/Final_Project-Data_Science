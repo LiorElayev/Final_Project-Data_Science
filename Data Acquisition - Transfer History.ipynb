{
 "cells": [
  {
   "cell_type": "code",
   "execution_count": null,
   "metadata": {},
   "outputs": [],
   "source": [
    "# imports and setup\n",
    "from bs4 import BeautifulSoup  \n",
    "import pandas as pd\n",
    "import requests"
   ]
  },
  {
   "cell_type": "code",
   "execution_count": null,
   "metadata": {},
   "outputs": [],
   "source": [
    "##import player_list.csv file and build df_player_list dataframe##\n",
    "df_player_list = pd.read_csv(\"player_list.csv\")\n",
    "##removing 'Unnamed: 0' column##\n",
    "df_player_list.drop('Unnamed: 0',axis='columns', inplace=True)"
   ]
  },
  {
   "cell_type": "code",
   "execution_count": null,
   "metadata": {},
   "outputs": [],
   "source": [
    "season=list()\n",
    "date=list()\n",
    "left=list()\n",
    "joined=list()\n",
    "market_val=list()\n",
    "fee=list()\n",
    "playerlist=list()\n",
    "p=0"
   ]
  },
  {
   "cell_type": "code",
   "execution_count": null,
   "metadata": {},
   "outputs": [],
   "source": [
    "##A loop that runs on each player page, saving in a dataframe the player transfer data##\n",
    "for link in df_player_list['player link']:\n",
    "    html = requests.get(link,headers={'User-Agent': 'Mozilla/5.0 (Macintosh; Intel Mac OS X 10_13_4) AppleWebKit/537.36 (KHTML, like Gecko) Chrome/35.0.1916.47 Safari/537.36'})\n",
    "    soup = BeautifulSoup(html.content, \"html.parser\")\n",
    "    response=soup(\"div\" , attrs={\"class\": \"responsive-table\"})[0]\n",
    "    for trs in response(\"tr\" , attrs={\"class\": \"zeile-transfer\"}):\n",
    "        season.append(trs(\"td\")[0].text.strip())\n",
    "        date.append(trs(\"td\")[1].text.strip())\n",
    "        left.append(trs(\"td\")[4].text.strip())\n",
    "        joined.append(trs(\"td\")[7].text.strip())\n",
    "        market_val.append(trs(\"td\")[8].text.strip())\n",
    "        fee.append(trs(\"td\")[9].text.strip())\n",
    "        playerlist.append(player_name[p])\n",
    "    p=p+1"
   ]
  },
  {
   "cell_type": "code",
   "execution_count": null,
   "metadata": {},
   "outputs": [],
   "source": [
    "##Building df_transfer_history dataframe from the lists above##\n",
    "df_transfer_history = pd.DataFrame({\"player\":playerlist,\n",
    "                               \"season\":season,\n",
    "                               \"date\":date,\n",
    "                               \"left\":left,\n",
    "                               \"joined\":joined,\n",
    "                               \"market value\":market_val,\n",
    "                               \"fee\":fee})\n",
    "df_transfer_history"
   ]
  },
  {
   "cell_type": "code",
   "execution_count": null,
   "metadata": {},
   "outputs": [],
   "source": [
    "##Export the dataframe to CSV file###\n",
    "df_transfer_history.to_csv(\"transfer_history.csv\")"
   ]
  }
 ],
 "metadata": {
  "kernelspec": {
   "display_name": "Python 3",
   "language": "python",
   "name": "python3"
  },
  "language_info": {
   "codemirror_mode": {
    "name": "ipython",
    "version": 3
   },
   "file_extension": ".py",
   "mimetype": "text/x-python",
   "name": "python",
   "nbconvert_exporter": "python",
   "pygments_lexer": "ipython3",
   "version": "3.8.5"
  }
 },
 "nbformat": 4,
 "nbformat_minor": 4
}
